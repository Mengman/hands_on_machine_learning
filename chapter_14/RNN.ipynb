{
 "cells": [
  {
   "cell_type": "code",
   "execution_count": 1,
   "metadata": {},
   "outputs": [],
   "source": [
    "import tensorflow as tf\n",
    "\n",
    "n_inputs = 3\n",
    "n_neurons = 5\n",
    "\n",
    "X0 = tf.placeholder(tf.float32, [None, n_inputs])\n",
    "X1 = tf.placeholder(tf.float32, [None, n_inputs])\n",
    "\n",
    "Wx = tf.Variable(tf.random_normal(shape=[n_inputs, n_neurons], dtype=tf.float32))\n",
    "Wy = tf.Variable(tf.random_normal(shape=[n_neurons, n_neurons], dtype=tf.float32))\n",
    "b = tf.Variable(tf.zeros([1, n_neurons], dtype=tf.float32))\n",
    "\n",
    "Y0 = tf.tanh(tf.matmul(X0, Wx) + b)\n",
    "Y1 = tf.tanh(tf.matmul(Y0, Wy) + tf.matmul(X1, Wx) + b)\n",
    "\n",
    "init = tf.global_variables_initializer()\n"
   ]
  },
  {
   "cell_type": "code",
   "execution_count": 2,
   "metadata": {
    "collapsed": true
   },
   "outputs": [],
   "source": [
    "import numpy as np\n",
    "\n",
    "X0_batch = np.array([[0, 1, 2], [3, 4, 5], [6, 7, 8], [9, 0, 1]])\n",
    "X1_batch = np.array([[9, 8, 7], [0, 0, 0], [6, 5, 4], [3, 2, 1]])\n",
    "\n",
    "with tf.Session() as sess:\n",
    "    init.run()\n",
    "    Y0_val, Y1_val = sess.run([Y0, Y1], feed_dict={X0: X0_batch, X1: X1_batch})"
   ]
  },
  {
   "cell_type": "code",
   "execution_count": 3,
   "metadata": {},
   "outputs": [
    {
     "name": "stdout",
     "output_type": "stream",
     "text": [
      "[[-0.79353786  0.86225009  0.41873506 -0.96197152 -0.99739718]\n",
      " [ 0.57355744  0.99893802  0.99935508  0.59780252 -1.        ]\n",
      " [ 0.98323286  0.99999243  0.99999958  0.99754673 -1.        ]\n",
      " [ 1.         -0.99999344  0.99463725  1.         -0.9994486 ]]\n"
     ]
    }
   ],
   "source": [
    "print(Y0_val)"
   ]
  },
  {
   "cell_type": "code",
   "execution_count": 4,
   "metadata": {},
   "outputs": [],
   "source": [
    "n_steps = 28\n",
    "n_inputs = 28\n",
    "n_neurons = 150\n",
    "n_outputs = 10\n",
    "\n",
    "learning_rate = 0.001\n",
    "\n",
    "X = tf.placeholder(tf.float32, [None, n_steps, n_inputs])\n",
    "y = tf.placeholder(tf.int32, [None])\n",
    "\n",
    "basic_cell = tf.contrib.rnn.BasicRNNCell(num_units=n_neurons)\n",
    "outputs, states = tf.nn.dynamic_rnn(basic_cell, X, dtype=tf.float32)\n",
    "\n",
    "logits = tf.layers.dense(states, n_outputs)\n",
    "xentropy = tf.nn.sparse_softmax_cross_entropy_with_logits(labels=y, logits=logits)\n",
    "\n",
    "loss = tf.reduce_mean(xentropy)\n",
    "optimizer = tf.train.AdamOptimizer(learning_rate=learning_rate)\n",
    "training_op = optimizer.minimize(loss)\n",
    "correct = tf.nn.in_top_k(logits, y, 1)\n",
    "accuracy = tf.reduce_mean(tf.cast(correct, tf.float32))\n",
    "\n",
    "init = tf.global_variables_initializer()"
   ]
  },
  {
   "cell_type": "code",
   "execution_count": 8,
   "metadata": {},
   "outputs": [
    {
     "name": "stdout",
     "output_type": "stream",
     "text": [
      "Extracting /data/train-images-idx3-ubyte.gz\n",
      "Extracting /data/train-labels-idx1-ubyte.gz\n",
      "Successfully downloaded t10k-images-idx3-ubyte.gz 1648877 bytes.\n",
      "Extracting /data/t10k-images-idx3-ubyte.gz\n",
      "Successfully downloaded t10k-labels-idx1-ubyte.gz 4542 bytes.\n",
      "Extracting /data/t10k-labels-idx1-ubyte.gz\n"
     ]
    }
   ],
   "source": [
    "from tensorflow.examples.tutorials.mnist import input_data\n",
    "\n",
    "mnist = input_data.read_data_sets(\"/data/\")\n",
    "X_test = mnist.test.images.reshape((-1, n_steps, n_inputs))\n",
    "y_test = mnist.test.labels"
   ]
  },
  {
   "cell_type": "code",
   "execution_count": 9,
   "metadata": {},
   "outputs": [
    {
     "name": "stdout",
     "output_type": "stream",
     "text": [
      "0 Train accuracy: 0.98 Test accuracy: 0.9371\n",
      "1 Train accuracy: 0.95 Test accuracy: 0.9519\n",
      "2 Train accuracy: 0.98 Test accuracy: 0.9571\n",
      "3 Train accuracy: 0.98 Test accuracy: 0.9604\n",
      "4 Train accuracy: 0.94 Test accuracy: 0.9665\n",
      "5 Train accuracy: 0.98 Test accuracy: 0.9661\n",
      "6 Train accuracy: 0.99 Test accuracy: 0.9634\n",
      "7 Train accuracy: 0.99 Test accuracy: 0.9687\n",
      "8 Train accuracy: 1.0 Test accuracy: 0.9691\n",
      "9 Train accuracy: 0.98 Test accuracy: 0.9675\n",
      "10 Train accuracy: 0.98 Test accuracy: 0.9658\n",
      "11 Train accuracy: 0.97 Test accuracy: 0.9675\n",
      "12 Train accuracy: 0.95 Test accuracy: 0.9743\n",
      "13 Train accuracy: 0.99 Test accuracy: 0.9702\n",
      "14 Train accuracy: 0.98 Test accuracy: 0.9702\n",
      "15 Train accuracy: 0.99 Test accuracy: 0.9733\n",
      "16 Train accuracy: 0.98 Test accuracy: 0.9763\n",
      "17 Train accuracy: 0.98 Test accuracy: 0.9692\n",
      "18 Train accuracy: 0.96 Test accuracy: 0.9627\n",
      "19 Train accuracy: 0.98 Test accuracy: 0.9656\n",
      "20 Train accuracy: 0.99 Test accuracy: 0.974\n",
      "21 Train accuracy: 0.98 Test accuracy: 0.9684\n",
      "22 Train accuracy: 0.97 Test accuracy: 0.9727\n",
      "23 Train accuracy: 0.96 Test accuracy: 0.9592\n",
      "24 Train accuracy: 1.0 Test accuracy: 0.9781\n",
      "25 Train accuracy: 0.99 Test accuracy: 0.9758\n",
      "26 Train accuracy: 0.98 Test accuracy: 0.9752\n",
      "27 Train accuracy: 0.98 Test accuracy: 0.9762\n",
      "28 Train accuracy: 1.0 Test accuracy: 0.9754\n",
      "29 Train accuracy: 1.0 Test accuracy: 0.9773\n",
      "30 Train accuracy: 0.99 Test accuracy: 0.9735\n",
      "31 Train accuracy: 0.99 Test accuracy: 0.9748\n",
      "32 Train accuracy: 0.99 Test accuracy: 0.9708\n",
      "33 Train accuracy: 0.96 Test accuracy: 0.9775\n",
      "34 Train accuracy: 0.99 Test accuracy: 0.9699\n",
      "35 Train accuracy: 1.0 Test accuracy: 0.9767\n",
      "36 Train accuracy: 0.97 Test accuracy: 0.9746\n",
      "37 Train accuracy: 0.99 Test accuracy: 0.9744\n",
      "38 Train accuracy: 0.99 Test accuracy: 0.9775\n",
      "39 Train accuracy: 0.99 Test accuracy: 0.9711\n",
      "40 Train accuracy: 1.0 Test accuracy: 0.9749\n",
      "41 Train accuracy: 0.97 Test accuracy: 0.9754\n",
      "42 Train accuracy: 1.0 Test accuracy: 0.9717\n",
      "43 Train accuracy: 0.99 Test accuracy: 0.9773\n",
      "44 Train accuracy: 1.0 Test accuracy: 0.976\n",
      "45 Train accuracy: 0.99 Test accuracy: 0.963\n",
      "46 Train accuracy: 0.98 Test accuracy: 0.971\n",
      "47 Train accuracy: 0.98 Test accuracy: 0.9669\n",
      "48 Train accuracy: 1.0 Test accuracy: 0.9752\n",
      "49 Train accuracy: 0.98 Test accuracy: 0.9708\n",
      "50 Train accuracy: 1.0 Test accuracy: 0.9783\n",
      "51 Train accuracy: 1.0 Test accuracy: 0.9794\n",
      "52 Train accuracy: 0.99 Test accuracy: 0.9728\n",
      "53 Train accuracy: 0.98 Test accuracy: 0.976\n",
      "54 Train accuracy: 0.99 Test accuracy: 0.9731\n",
      "55 Train accuracy: 0.99 Test accuracy: 0.9779\n",
      "56 Train accuracy: 0.99 Test accuracy: 0.9758\n",
      "57 Train accuracy: 0.99 Test accuracy: 0.9755\n",
      "58 Train accuracy: 1.0 Test accuracy: 0.9759\n",
      "59 Train accuracy: 0.97 Test accuracy: 0.9712\n",
      "60 Train accuracy: 0.99 Test accuracy: 0.9751\n",
      "61 Train accuracy: 1.0 Test accuracy: 0.9782\n",
      "62 Train accuracy: 1.0 Test accuracy: 0.9738\n",
      "63 Train accuracy: 0.99 Test accuracy: 0.9744\n",
      "64 Train accuracy: 0.99 Test accuracy: 0.9771\n",
      "65 Train accuracy: 0.98 Test accuracy: 0.9722\n",
      "66 Train accuracy: 0.97 Test accuracy: 0.9733\n",
      "67 Train accuracy: 0.98 Test accuracy: 0.9763\n",
      "68 Train accuracy: 0.97 Test accuracy: 0.9747\n",
      "69 Train accuracy: 1.0 Test accuracy: 0.9773\n",
      "70 Train accuracy: 1.0 Test accuracy: 0.9737\n",
      "71 Train accuracy: 0.97 Test accuracy: 0.9756\n",
      "72 Train accuracy: 0.98 Test accuracy: 0.9741\n",
      "73 Train accuracy: 0.99 Test accuracy: 0.97\n",
      "74 Train accuracy: 0.99 Test accuracy: 0.9717\n",
      "75 Train accuracy: 0.98 Test accuracy: 0.973\n",
      "76 Train accuracy: 0.98 Test accuracy: 0.978\n",
      "77 Train accuracy: 0.98 Test accuracy: 0.9748\n",
      "78 Train accuracy: 0.99 Test accuracy: 0.9766\n",
      "79 Train accuracy: 0.95 Test accuracy: 0.9625\n",
      "80 Train accuracy: 0.99 Test accuracy: 0.9725\n",
      "81 Train accuracy: 1.0 Test accuracy: 0.9717\n",
      "82 Train accuracy: 0.97 Test accuracy: 0.9736\n",
      "83 Train accuracy: 0.99 Test accuracy: 0.9639\n",
      "84 Train accuracy: 0.98 Test accuracy: 0.9762\n",
      "85 Train accuracy: 1.0 Test accuracy: 0.9743\n",
      "86 Train accuracy: 0.98 Test accuracy: 0.9664\n",
      "87 Train accuracy: 0.98 Test accuracy: 0.9665\n",
      "88 Train accuracy: 0.99 Test accuracy: 0.9635\n",
      "89 Train accuracy: 0.97 Test accuracy: 0.9649\n",
      "90 Train accuracy: 1.0 Test accuracy: 0.9694\n",
      "91 Train accuracy: 1.0 Test accuracy: 0.9676\n",
      "92 Train accuracy: 0.99 Test accuracy: 0.9695\n",
      "93 Train accuracy: 0.99 Test accuracy: 0.9669\n",
      "94 Train accuracy: 0.96 Test accuracy: 0.9716\n",
      "95 Train accuracy: 0.96 Test accuracy: 0.9535\n",
      "96 Train accuracy: 0.97 Test accuracy: 0.9703\n",
      "97 Train accuracy: 0.98 Test accuracy: 0.9675\n",
      "98 Train accuracy: 0.99 Test accuracy: 0.9652\n",
      "99 Train accuracy: 0.98 Test accuracy: 0.9646\n"
     ]
    }
   ],
   "source": [
    "n_epochs = 100\n",
    "batch_size = 100\n",
    "\n",
    "with tf.Session() as sess:\n",
    "    init.run()\n",
    "    for epoch in range(n_epochs):\n",
    "        for iteration in range(mnist.train.num_examples // batch_size):\n",
    "            X_batch, y_batch = mnist.train.next_batch(batch_size)\n",
    "            X_batch = X_batch.reshape((-1, n_steps, n_inputs))\n",
    "            sess.run(training_op, feed_dict={X: X_batch, y: y_batch})\n",
    "        acc_train = accuracy.eval(feed_dict={X: X_batch, y: y_batch})\n",
    "        acc_test = accuracy.eval(feed_dict={X: X_test, y: y_test})\n",
    "        print(epoch, \"Train accuracy:\", acc_train, \"Test accuracy:\", acc_test)"
   ]
  },
  {
   "cell_type": "code",
   "execution_count": 21,
   "metadata": {},
   "outputs": [],
   "source": [
    "tf.reset_default_graph()\n",
    "n_steps = 20\n",
    "n_inputs = 1\n",
    "n_neurons = 100\n",
    "n_outputs = 1\n",
    "\n",
    "X = tf.placeholder(tf.float32, [None, n_steps, n_inputs])\n",
    "y = tf.placeholder(tf.float32, [None, n_steps, n_outputs])\n",
    "# cell = tf.contrib.rnn.BasicRNNCell(num_units=n_neurons, activation=tf.nn.relu)\n",
    "cell = tf.contrib.rnn.OutputProjectionWrapper(\n",
    "    tf.contrib.rnn.BasicRNNCell(num_units=n_neurons, activation=tf.nn.relu),\n",
    "    output_size=n_outputs\n",
    ")\n",
    "outputs, states = tf.nn.dynamic_rnn(cell, X, dtype=tf.float32)"
   ]
  },
  {
   "cell_type": "code",
   "execution_count": 22,
   "metadata": {},
   "outputs": [],
   "source": [
    "learning_rate = 0.001\n",
    "loss = tf.reduce_mean(tf.square(outputs-y))\n",
    "optimizer = tf.train.AdamOptimizer(learning_rate=learning_rate)\n",
    "training_op = optimizer.minimize(loss)\n",
    "\n",
    "init = tf.global_variables_initializer()"
   ]
  },
  {
   "cell_type": "code",
   "execution_count": 19,
   "metadata": {
    "collapsed": true
   },
   "outputs": [],
   "source": []
  },
  {
   "cell_type": "code",
   "execution_count": null,
   "metadata": {
    "collapsed": true
   },
   "outputs": [],
   "source": []
  },
  {
   "cell_type": "code",
   "execution_count": null,
   "metadata": {
    "collapsed": true
   },
   "outputs": [],
   "source": []
  }
 ],
 "metadata": {
  "kernelspec": {
   "display_name": "Python 3",
   "language": "python",
   "name": "python3"
  },
  "language_info": {
   "codemirror_mode": {
    "name": "ipython",
    "version": 3
   },
   "file_extension": ".py",
   "mimetype": "text/x-python",
   "name": "python",
   "nbconvert_exporter": "python",
   "pygments_lexer": "ipython3",
   "version": "3.5.4"
  }
 },
 "nbformat": 4,
 "nbformat_minor": 2
}
